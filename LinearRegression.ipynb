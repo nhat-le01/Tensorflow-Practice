{
  "nbformat": 4,
  "nbformat_minor": 0,
  "metadata": {
    "colab": {
      "name": "LinearRegression.ipynb",
      "provenance": []
    },
    "kernelspec": {
      "name": "python3",
      "display_name": "Python 3"
    }
  },
  "cells": [
    {
      "cell_type": "code",
      "metadata": {
        "id": "J5y8PX-8O6wm",
        "colab_type": "code",
        "colab": {}
      },
      "source": [
        "import tensorflow as tf\n",
        "import numpy as np\n",
        "import matplotlib.pyplot as plt"
      ],
      "execution_count": 1,
      "outputs": []
    },
    {
      "cell_type": "code",
      "metadata": {
        "id": "IXTIzHajPd7t",
        "colab_type": "code",
        "colab": {}
      },
      "source": [
        "#Create some random data\n",
        "X = 2 * np.random.rand(100, 1)\n",
        "y = 4 + 3 * X + np.random.randn(100, 1)"
      ],
      "execution_count": 2,
      "outputs": []
    },
    {
      "cell_type": "markdown",
      "metadata": {
        "id": "JFosyJgiSyfB",
        "colab_type": "text"
      },
      "source": [
        ""
      ]
    },
    {
      "cell_type": "code",
      "metadata": {
        "id": "83EDUflWRiE6",
        "colab_type": "code",
        "colab": {
          "base_uri": "https://localhost:8080/",
          "height": 282
        },
        "outputId": "e7f05f29-d9df-4da4-87ce-2b31d31631c8"
      },
      "source": [
        "#Visualize Data\n",
        "plt.plot(X, y, 'ro', label='Original data', color= 'blue')\n",
        "plt.legend()"
      ],
      "execution_count": 3,
      "outputs": [
        {
          "output_type": "execute_result",
          "data": {
            "text/plain": [
              "<matplotlib.legend.Legend at 0x7f55fc0aec88>"
            ]
          },
          "metadata": {
            "tags": []
          },
          "execution_count": 3
        },
        {
          "output_type": "display_data",
          "data": {
            "image/png": "[encoded data removed]",
            "text/plain": [
              "<Figure size 432x288 with 1 Axes>"
            ]
          },
          "metadata": {
            "tags": [],
            "needs_background": "light"
          }
        }
      ]
    },
    {
      "cell_type": "code",
      "metadata": {
        "id": "9wk1UVYdRvnL",
        "colab_type": "code",
        "colab": {}
      },
      "source": [
        "#Initialize W and B randomly\n",
        "W = tf.Variable(initial_value=np.random.randn(), name=\"weight\")\n",
        "B = tf.Variable(initial_value=np.random.randn(), name=\"bias\")"
      ],
      "execution_count": 4,
      "outputs": []
    },
    {
      "cell_type": "code",
      "metadata": {
        "id": "PbPMfiy9Yo8d",
        "colab_type": "code",
        "colab": {
          "base_uri": "https://localhost:8080/",
          "height": 34
        },
        "outputId": "6b12bc31-1625-4bff-d469-9ba6586ccd94"
      },
      "source": [
        "print(W.numpy(), B.numpy())"
      ],
      "execution_count": 5,
      "outputs": [
        {
          "output_type": "stream",
          "text": [
            "-1.5168391 0.9936692\n"
          ],
          "name": "stdout"
        }
      ]
    },
    {
      "cell_type": "code",
      "metadata": {
        "id": "6U25WWAsSQAO",
        "colab_type": "code",
        "colab": {}
      },
      "source": [
        "def linear_regression(x):\n",
        "  #y = w * x + b\n",
        "  return tf.add(tf.multiply(W, x), B)"
      ],
      "execution_count": 6,
      "outputs": []
    },
    {
      "cell_type": "code",
      "metadata": {
        "id": "BNElIndRSlvH",
        "colab_type": "code",
        "colab": {}
      },
      "source": [
        "def cost(y_pred, y_true):\n",
        "  return tf.reduce_mean(tf.square(y_pred - y_true))"
      ],
      "execution_count": 7,
      "outputs": []
    },
    {
      "cell_type": "code",
      "metadata": {
        "id": "EaMIyGH1TJcj",
        "colab_type": "code",
        "colab": {}
      },
      "source": [
        "optimizer = tf.optimizers.SGD()"
      ],
      "execution_count": 8,
      "outputs": []
    },
    {
      "cell_type": "code",
      "metadata": {
        "id": "1mC2n7rjOxcI",
        "colab_type": "code",
        "colab": {}
      },
      "source": [
        ""
      ],
      "execution_count": null,
      "outputs": []
    },
    {
      "cell_type": "code",
      "metadata": {
        "id": "l1WyDOmYTNKw",
        "colab_type": "code",
        "colab": {}
      },
      "source": [
        "# Optimization process. \n",
        "def optimization():\n",
        "    # GradientTape for automatic differentiation.\n",
        "    with tf.GradientTape() as g:\n",
        "        pred = linear_regression(X)\n",
        "        loss = cost(pred, y)\n",
        "\n",
        "    gradients = g.gradient(loss, [W, B])\n",
        "    \n",
        "    # Update W and b following gradients\n",
        "    optimizer.apply_gradients(zip(gradients, [W, B]))"
      ],
      "execution_count": 9,
      "outputs": []
    },
    {
      "cell_type": "code",
      "metadata": {
        "id": "tF74DVooWG4O",
        "colab_type": "code",
        "colab": {
          "base_uri": "https://localhost:8080/",
          "height": 346
        },
        "outputId": "3e2afe2f-404a-44d6-c402-24175bda7c64"
      },
      "source": [
        "for epoch in range(1, 2000):\n",
        "  optimization()\n",
        "  if epoch % 100 == 0:\n",
        "    pred = linear_regression(X)\n",
        "    loss = cost(pred, y)\n",
        "    print(\"step: %i, loss: %f, W: %f, b: %f\" % (epoch, loss, W.numpy(), B.numpy()))"
      ],
      "execution_count": 10,
      "outputs": [
        {
          "output_type": "stream",
          "text": [
            "step: 100, loss: 1.013289, W: 2.683698, b: 4.187576\n",
            "step: 200, loss: 0.976334, W: 2.836754, b: 4.090480\n",
            "step: 300, loss: 0.959927, W: 2.918912, b: 3.992714\n",
            "step: 400, loss: 0.950941, W: 2.979388, b: 3.920087\n",
            "step: 500, loss: 0.946020, W: 3.024142, b: 3.866335\n",
            "step: 600, loss: 0.943324, W: 3.057263, b: 3.826552\n",
            "step: 700, loss: 0.941847, W: 3.081777, b: 3.797110\n",
            "step: 800, loss: 0.941039, W: 3.099918, b: 3.775321\n",
            "step: 900, loss: 0.940596, W: 3.113344, b: 3.759194\n",
            "step: 1000, loss: 0.940353, W: 3.123281, b: 3.747260\n",
            "step: 1100, loss: 0.940220, W: 3.130635, b: 3.738426\n",
            "step: 1200, loss: 0.940147, W: 3.136078, b: 3.731890\n",
            "step: 1300, loss: 0.940108, W: 3.140106, b: 3.727052\n",
            "step: 1400, loss: 0.940086, W: 3.143088, b: 3.723471\n",
            "step: 1500, loss: 0.940074, W: 3.145293, b: 3.720821\n",
            "step: 1600, loss: 0.940067, W: 3.146926, b: 3.718860\n",
            "step: 1700, loss: 0.940063, W: 3.148134, b: 3.717409\n",
            "step: 1800, loss: 0.940062, W: 3.149028, b: 3.716336\n",
            "step: 1900, loss: 0.940060, W: 3.149690, b: 3.715541\n"
          ],
          "name": "stdout"
        }
      ]
    },
    {
      "cell_type": "markdown",
      "metadata": {
        "id": "hd2C4jQ1yivX",
        "colab_type": "text"
      },
      "source": [
        "**Visualize the fitted line**"
      ]
    },
    {
      "cell_type": "code",
      "metadata": {
        "id": "LJ49-_sTZmhP",
        "colab_type": "code",
        "colab": {
          "base_uri": "https://localhost:8080/",
          "height": 265
        },
        "outputId": "c7771dcf-8748-4e92-cd08-66328a6e44c2"
      },
      "source": [
        "# Graphic display\n",
        "plt.plot(X, y, 'ro', label='Original data')\n",
        "plt.plot(X, np.array(W * X + B), label='Fitted line')\n",
        "plt.legend()\n",
        "plt.show()"
      ],
      "execution_count": 11,
      "outputs": [
        {
          "output_type": "display_data",
          "data": {
            "image/png": "[encoded data removed]",
            "text/plain": [
              "<Figure size 432x288 with 1 Axes>"
            ]
          },
          "metadata": {
            "tags": [],
            "needs_background": "light"
          }
        }
      ]
    }
  ]
}