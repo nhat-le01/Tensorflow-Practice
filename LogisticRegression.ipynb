{
  "nbformat": 4,
  "nbformat_minor": 0,
  "metadata": {
    "colab": {
      "name": "LogisticRegression.ipynb",
      "provenance": [],
      "collapsed_sections": []
    },
    "kernelspec": {
      "name": "python3",
      "display_name": "Python 3"
    }
  },
  "cells": [
    {
      "cell_type": "code",
      "metadata": {
        "id": "RJPL48YAtGcC",
        "colab_type": "code",
        "colab": {}
      },
      "source": [
        "import tensorflow as tf\n",
        "import numpy as np\n",
        "import matplotlib.pyplot as plt\n",
        "import random"
      ],
      "execution_count": 1,
      "outputs": []
    },
    {
      "cell_type": "code",
      "metadata": {
        "id": "gKIOsDJzwlhs",
        "colab_type": "code",
        "colab": {}
      },
      "source": [
        "#Each image is of shape 28 * 28-> num features = 18 * 28\n",
        "#10 different classes\n",
        "num_features = 28 * 28\n",
        "num_classes = 10"
      ],
      "execution_count": 2,
      "outputs": []
    },
    {
      "cell_type": "markdown",
      "metadata": {
        "id": "BDjjSSwTFpEN",
        "colab_type": "text"
      },
      "source": [
        "**Load and Visualize data**"
      ]
    },
    {
      "cell_type": "code",
      "metadata": {
        "id": "jlfYji81FsHw",
        "colab_type": "code",
        "colab": {
          "base_uri": "https://localhost:8080/",
          "height": 86
        },
        "outputId": "ee67fded-b824-430f-fc5e-b568ebc59740"
      },
      "source": [
        "(x_train, y_train), (x_test, y_test) = tf.keras.datasets.mnist.load_data()\n",
        "x_train, x_test = np.array(x_train, np.float32), np.array(x_test, np.float32)\n",
        "# Rescale the images from [0,255] to the [0.0,1.0] range.\n",
        "x_train, x_test = x_train[..., np.newaxis]/255.0, x_test[..., np.newaxis]/255.0\n",
        "x_train, x_test = x_train.reshape([-1, num_features]), x_test.reshape([-1, num_features])\n",
        "print(\"Number of original training examples:\", len(x_train))\n",
        "print(\"Number of original test examples:\", len(x_test))"
      ],
      "execution_count": 3,
      "outputs": [
        {
          "output_type": "stream",
          "text": [
            "Downloading data from https://storage.googleapis.com/tensorflow/tf-keras-datasets/mnist.npz\n",
            "11493376/11490434 [==============================] - 0s 0us/step\n",
            "Number of original training examples: 60000\n",
            "Number of original test examples: 10000\n"
          ],
          "name": "stdout"
        }
      ]
    },
    {
      "cell_type": "code",
      "metadata": {
        "id": "_EevYfxCL5cb",
        "colab_type": "code",
        "colab": {
          "base_uri": "https://localhost:8080/",
          "height": 1000
        },
        "outputId": "a8b46f78-48cb-42ac-ba52-21cb8a37aa11"
      },
      "source": [
        "for i in range(5):\n",
        "  random_image = random.choice(x_train)\n",
        "  random_image = random_image.reshape(28, 28)\n",
        "  plt.imshow(random_image, cmap='gray')\n",
        "  plt.show()"
      ],
      "execution_count": 4,
      "outputs": [
        {
          "output_type": "display_data",
          "data": {
            "image/png": "[encoded data removed]",
            "text/plain": [
              "<Figure size 432x288 with 1 Axes>"
            ]
          },
          "metadata": {
            "tags": [],
            "needs_background": "light"
          }
        },
        {
          "output_type": "display_data",
          "data": {
            "image/png": "[encoded data removed]",
            "text/plain": [
              "<Figure size 432x288 with 1 Axes>"
            ]
          },
          "metadata": {
            "tags": [],
            "needs_background": "light"
          }
        },
        {
          "output_type": "display_data",
          "data": {
            "image/png": "[encoded data removed]",
            "text/plain": [
              "<Figure size 432x288 with 1 Axes>"
            ]
          },
          "metadata": {
            "tags": [],
            "needs_background": "light"
          }
        },
        {
          "output_type": "display_data",
          "data": {
            "image/png": "[encoded data removed]",
            "text/plain": [
              "<Figure size 432x288 with 1 Axes>"
            ]
          },
          "metadata": {
            "tags": [],
            "needs_background": "light"
          }
        },
        {
          "output_type": "display_data",
          "data": {
            "image/png": "[encoded data removed]",
            "text/plain": [
              "<Figure size 432x288 with 1 Axes>"
            ]
          },
          "metadata": {
            "tags": [],
            "needs_background": "light"
          }
        }
      ]
    },
    {
      "cell_type": "code",
      "metadata": {
        "id": "R6MkN0GPFyP6",
        "colab_type": "code",
        "colab": {}
      },
      "source": [
        "# Use tf.data API to shuffle and batch data.\n",
        "train_data = tf.data.Dataset.from_tensor_slices((x_train, y_train))\n",
        "train_data = train_data.repeat().shuffle(5000).batch(64).prefetch(1)"
      ],
      "execution_count": 5,
      "outputs": []
    },
    {
      "cell_type": "code",
      "metadata": {
        "id": "NsrO_eCLNnqi",
        "colab_type": "code",
        "colab": {
          "base_uri": "https://localhost:8080/",
          "height": 51
        },
        "outputId": "a1e47277-dcef-4c50-92fd-acc7d573987b"
      },
      "source": [
        "'''\n",
        "W = tf.Variable(tf.ones(shape=(num_feature, num_class)), name = \"weight\", dtype=\"float32\")\n",
        "b = tf.Variable(tf.zeros(shape=(num_class, 1)), name = \"bias\", dtype=\"float32\")\n",
        "'''\n",
        "W = tf.Variable(tf.random.uniform([num_features, num_classes]), name=\"weight\")\n",
        "# Bias of shape [10], the total number of classes.\n",
        "b = tf.Variable(tf.zeros([num_classes]), name=\"bias\")\n",
        "print(W.numpy().shape)\n",
        "print(b.numpy().shape)\n",
        "\n",
        "def logistic_regression(x):\n",
        "  #x is matrix of shape batch_size * num_feature, W is matrix of shape num_feature * num_class\n",
        "  return tf.nn.softmax(tf.matmul(x, W) + b)\n",
        "\n",
        "def cross_entropy_loss(y_pred, y_true):\n",
        "  y_true = tf.one_hot(y_true, depth=num_classes)\n",
        "  temp = y_true * tf.math.log(y_pred)\n",
        "  return tf.reduce_mean(-tf.reduce_sum(temp, 1))\n",
        "\n",
        "def accuracy(y_true, y_pred):\n",
        "  #y_true and y_pred are matrix of shape (num_examples * num_class)\n",
        "  #return tf.reduce_mean(tf.equal(tf.argmax(y_pred, axis = 1), tf.cast(y_true, tf.int64)))\n",
        "  correct_prediction = tf.equal(tf.argmax(y_pred, 1), tf.cast(y_true, tf.int64))\n",
        "  return tf.reduce_mean(tf.cast(correct_prediction, tf.float32))\n",
        "\n",
        "optimizer = tf.optimizers.Adam()\n"
      ],
      "execution_count": 6,
      "outputs": [
        {
          "output_type": "stream",
          "text": [
            "(784, 10)\n",
            "(10,)\n"
          ],
          "name": "stdout"
        }
      ]
    },
    {
      "cell_type": "code",
      "metadata": {
        "id": "A7GCh4b5YSed",
        "colab_type": "code",
        "colab": {}
      },
      "source": [
        "def optimization(x, y):\n",
        "  with tf.GradientTape() as g:\n",
        "    pred = logistic_regression(x)\n",
        "    loss = cross_entropy_loss(pred, y)\n",
        "\n",
        "  gradients = g.gradient(loss, [W, b])\n",
        "  optimizer.apply_gradients(zip(gradients, [W, b]))"
      ],
      "execution_count": 7,
      "outputs": []
    },
    {
      "cell_type": "code",
      "metadata": {
        "id": "-y3QPt2FU_RG",
        "colab_type": "code",
        "colab": {
          "base_uri": "https://localhost:8080/",
          "height": 363
        },
        "outputId": "8c7a722d-0ec4-40f6-8bcf-56e2b02262fe"
      },
      "source": [
        "loss_history = []\n",
        "steps = []\n",
        "for step, (batch_x, batch_y) in enumerate(train_data.take(1000), 1):\n",
        "  optimization(batch_x, batch_y)\n",
        "\n",
        "  if step % 50 == 0:\n",
        "    steps.append(step)\n",
        "    pred = logistic_regression(batch_x)\n",
        "    loss = cross_entropy_loss(pred, batch_y)\n",
        "    loss_history.append(loss)\n",
        "    acc = accuracy(batch_y, pred)\n",
        "    print(\"Step: \", step, \" Accuracy: \", acc.numpy(), \" Loss: \", loss.numpy())"
      ],
      "execution_count": 8,
      "outputs": [
        {
          "output_type": "stream",
          "text": [
            "Step:  50  Accuracy:  0.25  Loss:  2.4903564\n",
            "Step:  100  Accuracy:  0.390625  Loss:  1.8807482\n",
            "Step:  150  Accuracy:  0.53125  Loss:  1.4599229\n",
            "Step:  200  Accuracy:  0.640625  Loss:  1.4518019\n",
            "Step:  250  Accuracy:  0.765625  Loss:  0.9164357\n",
            "Step:  300  Accuracy:  0.75  Loss:  0.69311506\n",
            "Step:  350  Accuracy:  0.859375  Loss:  0.5037439\n",
            "Step:  400  Accuracy:  0.75  Loss:  0.85331553\n",
            "Step:  450  Accuracy:  0.84375  Loss:  0.5055267\n",
            "Step:  500  Accuracy:  0.765625  Loss:  0.7032773\n",
            "Step:  550  Accuracy:  0.796875  Loss:  0.56349593\n",
            "Step:  600  Accuracy:  0.84375  Loss:  0.5188427\n",
            "Step:  650  Accuracy:  0.875  Loss:  0.49536774\n",
            "Step:  700  Accuracy:  0.78125  Loss:  0.69173115\n",
            "Step:  750  Accuracy:  0.734375  Loss:  0.61154133\n",
            "Step:  800  Accuracy:  0.859375  Loss:  0.36828563\n",
            "Step:  850  Accuracy:  0.84375  Loss:  0.42692032\n",
            "Step:  900  Accuracy:  0.84375  Loss:  0.43601772\n",
            "Step:  950  Accuracy:  0.890625  Loss:  0.34020546\n",
            "Step:  1000  Accuracy:  0.828125  Loss:  0.4527393\n"
          ],
          "name": "stdout"
        }
      ]
    },
    {
      "cell_type": "markdown",
      "metadata": {
        "id": "yZbJcQdthvdv",
        "colab_type": "text"
      },
      "source": [
        "**Loss vs Steps**"
      ]
    },
    {
      "cell_type": "code",
      "metadata": {
        "id": "8p42vUGs19E_",
        "colab_type": "code",
        "colab": {
          "base_uri": "https://localhost:8080/",
          "height": 279
        },
        "outputId": "e4685c3b-4f43-4ef6-930a-6c95ccc76a2b"
      },
      "source": [
        "plt.plot(steps, loss_history)\n",
        "plt.ylabel('Loss')\n",
        "plt.xlabel('Steps')\n",
        "plt.show()"
      ],
      "execution_count": 9,
      "outputs": [
        {
          "output_type": "display_data",
          "data": {
            "image/png": "[encoded data removed]",
            "text/plain": [
              "<Figure size 432x288 with 1 Axes>"
            ]
          },
          "metadata": {
            "tags": [],
            "needs_background": "light"
          }
        }
      ]
    },
    {
      "cell_type": "markdown",
      "metadata": {
        "id": "L3KZ0ueukGKv",
        "colab_type": "text"
      },
      "source": [
        "**Make predictions on test data**"
      ]
    },
    {
      "cell_type": "code",
      "metadata": {
        "id": "2xf2PqtbkJhT",
        "colab_type": "code",
        "colab": {
          "base_uri": "https://localhost:8080/",
          "height": 1000
        },
        "outputId": "c33b85e4-0ae9-48cb-dab5-612ef25f1f62"
      },
      "source": [
        "test_images = []\n",
        "for i in range(5):\n",
        "  random_image = random.choice(x_test)\n",
        "  random_image = random_image.reshape([28, 28])\n",
        "  plt.imshow(random_image, cmap='gray')\n",
        "  plt.show()\n",
        "  random_image = random_image.reshape(1, 28 * 28)\n",
        "  prediction = logistic_regression(random_image)\n",
        "  print(\"Prediction: \", tf.argmax(prediction, axis = 1).numpy())\n",
        "  "
      ],
      "execution_count": 10,
      "outputs": [
        {
          "output_type": "display_data",
          "data": {
            "image/png": "[encoded data removed]",
            "text/plain": [
              "<Figure size 432x288 with 1 Axes>"
            ]
          },
          "metadata": {
            "tags": [],
            "needs_background": "light"
          }
        },
        {
          "output_type": "stream",
          "text": [
            "Prediction:  [1]\n"
          ],
          "name": "stdout"
        },
        {
          "output_type": "display_data",
          "data": {
            "image/png": "[encoded data removed]",
            "text/plain": [
              "<Figure size 432x288 with 1 Axes>"
            ]
          },
          "metadata": {
            "tags": [],
            "needs_background": "light"
          }
        },
        {
          "output_type": "stream",
          "text": [
            "Prediction:  [1]\n"
          ],
          "name": "stdout"
        },
        {
          "output_type": "display_data",
          "data": {
            "image/png": "[encoded data removed]",
            "text/plain": [
              "<Figure size 432x288 with 1 Axes>"
            ]
          },
          "metadata": {
            "tags": [],
            "needs_background": "light"
          }
        },
        {
          "output_type": "stream",
          "text": [
            "Prediction:  [9]\n"
          ],
          "name": "stdout"
        },
        {
          "output_type": "display_data",
          "data": {
            "image/png": "[encoded data removed]",
            "text/plain": [
              "<Figure size 432x288 with 1 Axes>"
            ]
          },
          "metadata": {
            "tags": [],
            "needs_background": "light"
          }
        },
        {
          "output_type": "stream",
          "text": [
            "Prediction:  [1]\n"
          ],
          "name": "stdout"
        },
        {
          "output_type": "display_data",
          "data": {
            "image/png": "[encoded data removed]",
            "text/plain": [
              "<Figure size 432x288 with 1 Axes>"
            ]
          },
          "metadata": {
            "tags": [],
            "needs_background": "light"
          }
        },
        {
          "output_type": "stream",
          "text": [
            "Prediction:  [4]\n"
          ],
          "name": "stdout"
        }
      ]
    },
    {
      "cell_type": "markdown",
      "metadata": {
        "id": "Mwh3Yfd0HWSq",
        "colab_type": "text"
      },
      "source": [
        "**Check what images we got wrong**"
      ]
    },
    {
      "cell_type": "code",
      "metadata": {
        "id": "VsvE0GDpDuiL",
        "colab_type": "code",
        "colab": {}
      },
      "source": [
        "test_predictions = logistic_regression(x_test)\n",
        "test_predictions = np.argmax(test_predictions, axis = 1)"
      ],
      "execution_count": 11,
      "outputs": []
    },
    {
      "cell_type": "code",
      "metadata": {
        "id": "sVDn4hekL9Mv",
        "colab_type": "code",
        "colab": {}
      },
      "source": [
        "a = np.where(test_predictions != y_test)[0]\n",
        "mistakes = x_test[a[0:5]]"
      ],
      "execution_count": 12,
      "outputs": []
    },
    {
      "cell_type": "code",
      "metadata": {
        "id": "BxK_kdHxNSqJ",
        "colab_type": "code",
        "colab": {
          "base_uri": "https://localhost:8080/",
          "height": 1000
        },
        "outputId": "bb923860-c080-4dc2-983f-007416d4b006"
      },
      "source": [
        "for i in range(5):\n",
        "  #random_image = random.choice(x_test)\n",
        "  image = mistakes[i].reshape([28, 28])\n",
        "  plt.imshow(image, cmap='gray')\n",
        "  plt.show()\n",
        "  print(\"Correct label: \", y_test[a[i]])\n",
        "  print(\"Predicted label: \", test_predictions[a[i]])"
      ],
      "execution_count": 13,
      "outputs": [
        {
          "output_type": "display_data",
          "data": {
            "image/png": "[encoded data removed]",
            "text/plain": [
              "<Figure size 432x288 with 1 Axes>"
            ]
          },
          "metadata": {
            "tags": [],
            "needs_background": "light"
          }
        },
        {
          "output_type": "stream",
          "text": [
            "Correct label:  5\n",
            "Predicted label:  6\n"
          ],
          "name": "stdout"
        },
        {
          "output_type": "display_data",
          "data": {
            "image/png": "[encoded data removed]",
            "text/plain": [
              "<Figure size 432x288 with 1 Axes>"
            ]
          },
          "metadata": {
            "tags": [],
            "needs_background": "light"
          }
        },
        {
          "output_type": "stream",
          "text": [
            "Correct label:  6\n",
            "Predicted label:  8\n"
          ],
          "name": "stdout"
        },
        {
          "output_type": "display_data",
          "data": {
            "image/png": "[encoded data removed]",
            "text/plain": [
              "<Figure size 432x288 with 1 Axes>"
            ]
          },
          "metadata": {
            "tags": [],
            "needs_background": "light"
          }
        },
        {
          "output_type": "stream",
          "text": [
            "Correct label:  4\n",
            "Predicted label:  0\n"
          ],
          "name": "stdout"
        },
        {
          "output_type": "display_data",
          "data": {
            "image/png": "[encoded data removed]",
            "text/plain": [
              "<Figure size 432x288 with 1 Axes>"
            ]
          },
          "metadata": {
            "tags": [],
            "needs_background": "light"
          }
        },
        {
          "output_type": "stream",
          "text": [
            "Correct label:  1\n",
            "Predicted label:  3\n"
          ],
          "name": "stdout"
        },
        {
          "output_type": "display_data",
          "data": {
            "image/png": "[encoded data removed]",
            "text/plain": [
              "<Figure size 432x288 with 1 Axes>"
            ]
          },
          "metadata": {
            "tags": [],
            "needs_background": "light"
          }
        },
        {
          "output_type": "stream",
          "text": [
            "Correct label:  6\n",
            "Predicted label:  2\n"
          ],
          "name": "stdout"
        }
      ]
    },
    {
      "cell_type": "markdown",
      "metadata": {
        "id": "krFbxe-s9wC4",
        "colab_type": "text"
      },
      "source": [
        "**Comments**"
      ]
    },
    {
      "cell_type": "markdown",
      "metadata": {
        "id": "5EAN-Mrs9z2o",
        "colab_type": "text"
      },
      "source": [
        "Logistic regression might not be the best tool for this task. Even though the performance is relatively good, the algorithm is not sophisticated enough. Using a more complicated network such as DNN or CNN will help"
      ]
    }
  ]
}